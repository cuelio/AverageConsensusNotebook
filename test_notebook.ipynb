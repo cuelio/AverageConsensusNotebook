{
 "cells": [
  {
   "cell_type": "code",
   "execution_count": 1,
   "outputs": [],
   "source": [
    "import output.plotter as plotter\n",
    "import setup.graph_creator as graph_creator\n",
    "import setup.init_edge_weights as init_edge_weights\n",
    "import setup.init_starting_values as init_starting_values\n",
    "import simulation.run_average_consensus as simulation\n",
    "\n",
    "from shared_types.types import InitialValueSetup\n",
    "from shared_types.types import EdgeWeightType\n",
    "from shared_types.types import TopologyLayout\n",
    "\n",
    "from average_consensus.DistributedAverageConsensusInstance import DistributedAverageConsensusInstance"
   ],
   "metadata": {
    "collapsed": false,
    "pycharm": {
     "name": "#%%\n"
    }
   }
  },
  {
   "cell_type": "code",
   "execution_count": 2,
   "outputs": [
    {
     "ename": "ValueError",
     "evalue": "zero-size array to reduction operation maximum which has no identity",
     "output_type": "error",
     "traceback": [
      "\u001B[0;31m---------------------------------------------------------------------------\u001B[0m",
      "\u001B[0;31mValueError\u001B[0m                                Traceback (most recent call last)",
      "Input \u001B[0;32mIn [2]\u001B[0m, in \u001B[0;36m<cell line: 5>\u001B[0;34m()\u001B[0m\n\u001B[1;32m      5\u001B[0m \u001B[38;5;28;01mfor\u001B[39;00m n \u001B[38;5;129;01min\u001B[39;00m \u001B[38;5;28mrange\u001B[39m(\u001B[38;5;241m10\u001B[39m, \u001B[38;5;241m500\u001B[39m, \u001B[38;5;241m5\u001B[39m):\n\u001B[1;32m      6\u001B[0m     avg_consensus_instance \u001B[38;5;241m=\u001B[39m DistributedAverageConsensusInstance(\n\u001B[1;32m      7\u001B[0m         n, InitialValueSetup\u001B[38;5;241m.\u001B[39mGROUPED, TopologyLayout\u001B[38;5;241m.\u001B[39mLATTICE_RING, EdgeWeightType\u001B[38;5;241m.\u001B[39mMAX_DEGREE)\n\u001B[0;32m----> 8\u001B[0m     \u001B[43mavg_consensus_instance\u001B[49m\u001B[38;5;241;43m.\u001B[39;49m\u001B[43mexecute_instance\u001B[49m\u001B[43m(\u001B[49m\u001B[43m)\u001B[49m\n\u001B[1;32m      9\u001B[0m     num_rounds_to_stop\u001B[38;5;241m.\u001B[39mappend(avg_consensus_instance\u001B[38;5;241m.\u001B[39mrounds_to_convergence)\n\u001B[1;32m     12\u001B[0m end \u001B[38;5;241m=\u001B[39m time\u001B[38;5;241m.\u001B[39mtime()\n",
      "File \u001B[0;32m~/average_consensus/DistributedAverageConsensusInstance.py:28\u001B[0m, in \u001B[0;36mDistributedAverageConsensusInstance.execute_instance\u001B[0;34m(self)\u001B[0m\n\u001B[1;32m     26\u001B[0m \u001B[38;5;28;01mdef\u001B[39;00m \u001B[38;5;21mexecute_instance\u001B[39m(\u001B[38;5;28mself\u001B[39m):\n\u001B[1;32m     27\u001B[0m     rounds \u001B[38;5;241m=\u001B[39m \u001B[38;5;241m0\u001B[39m\n\u001B[0;32m---> 28\u001B[0m     \u001B[38;5;28;01mwhile\u001B[39;00m \u001B[38;5;129;01mnot\u001B[39;00m \u001B[38;5;28;43mself\u001B[39;49m\u001B[38;5;241;43m.\u001B[39;49m\u001B[43mis_stopping_condition_satisfied\u001B[49m\u001B[43m(\u001B[49m\u001B[43m)\u001B[49m:\n\u001B[1;32m     29\u001B[0m         rounds \u001B[38;5;241m+\u001B[39m\u001B[38;5;241m=\u001B[39m \u001B[38;5;241m1\u001B[39m\n\u001B[1;32m     30\u001B[0m         \u001B[38;5;28mself\u001B[39m\u001B[38;5;241m.\u001B[39mvalues \u001B[38;5;241m=\u001B[39m np\u001B[38;5;241m.\u001B[39mdot(\u001B[38;5;28mself\u001B[39m\u001B[38;5;241m.\u001B[39medge_weights, \u001B[38;5;28mself\u001B[39m\u001B[38;5;241m.\u001B[39mvalues)\n",
      "File \u001B[0;32m~/average_consensus/DistributedAverageConsensusInstance.py:36\u001B[0m, in \u001B[0;36mDistributedAverageConsensusInstance.is_stopping_condition_satisfied\u001B[0;34m(self, epsilon)\u001B[0m\n\u001B[1;32m     35\u001B[0m \u001B[38;5;28;01mdef\u001B[39;00m \u001B[38;5;21mis_stopping_condition_satisfied\u001B[39m(\u001B[38;5;28mself\u001B[39m, epsilon\u001B[38;5;241m=\u001B[39m\u001B[38;5;241m0.01\u001B[39m):\n\u001B[0;32m---> 36\u001B[0m     max_value \u001B[38;5;241m=\u001B[39m \u001B[43mnp\u001B[49m\u001B[38;5;241;43m.\u001B[39;49m\u001B[43mmax\u001B[49m\u001B[43m(\u001B[49m\u001B[38;5;28;43mself\u001B[39;49m\u001B[38;5;241;43m.\u001B[39;49m\u001B[43mvalues\u001B[49m\u001B[43m)\u001B[49m\n\u001B[1;32m     37\u001B[0m     min_value \u001B[38;5;241m=\u001B[39m np\u001B[38;5;241m.\u001B[39mmin(\u001B[38;5;28mself\u001B[39m\u001B[38;5;241m.\u001B[39mvalues)\n\u001B[1;32m     38\u001B[0m     diff \u001B[38;5;241m=\u001B[39m \u001B[38;5;28mabs\u001B[39m(max_value \u001B[38;5;241m-\u001B[39m min_value)\n",
      "File \u001B[0;32m<__array_function__ internals>:180\u001B[0m, in \u001B[0;36mamax\u001B[0;34m(*args, **kwargs)\u001B[0m\n",
      "File \u001B[0;32m~/.local/lib/python3.8/site-packages/numpy/core/fromnumeric.py:2791\u001B[0m, in \u001B[0;36mamax\u001B[0;34m(a, axis, out, keepdims, initial, where)\u001B[0m\n\u001B[1;32m   2675\u001B[0m \u001B[38;5;129m@array_function_dispatch\u001B[39m(_amax_dispatcher)\n\u001B[1;32m   2676\u001B[0m \u001B[38;5;28;01mdef\u001B[39;00m \u001B[38;5;21mamax\u001B[39m(a, axis\u001B[38;5;241m=\u001B[39m\u001B[38;5;28;01mNone\u001B[39;00m, out\u001B[38;5;241m=\u001B[39m\u001B[38;5;28;01mNone\u001B[39;00m, keepdims\u001B[38;5;241m=\u001B[39mnp\u001B[38;5;241m.\u001B[39m_NoValue, initial\u001B[38;5;241m=\u001B[39mnp\u001B[38;5;241m.\u001B[39m_NoValue,\n\u001B[1;32m   2677\u001B[0m          where\u001B[38;5;241m=\u001B[39mnp\u001B[38;5;241m.\u001B[39m_NoValue):\n\u001B[1;32m   2678\u001B[0m     \u001B[38;5;124;03m\"\"\"\u001B[39;00m\n\u001B[1;32m   2679\u001B[0m \u001B[38;5;124;03m    Return the maximum of an array or maximum along an axis.\u001B[39;00m\n\u001B[1;32m   2680\u001B[0m \n\u001B[0;32m   (...)\u001B[0m\n\u001B[1;32m   2789\u001B[0m \u001B[38;5;124;03m    5\u001B[39;00m\n\u001B[1;32m   2790\u001B[0m \u001B[38;5;124;03m    \"\"\"\u001B[39;00m\n\u001B[0;32m-> 2791\u001B[0m     \u001B[38;5;28;01mreturn\u001B[39;00m \u001B[43m_wrapreduction\u001B[49m\u001B[43m(\u001B[49m\u001B[43ma\u001B[49m\u001B[43m,\u001B[49m\u001B[43m \u001B[49m\u001B[43mnp\u001B[49m\u001B[38;5;241;43m.\u001B[39;49m\u001B[43mmaximum\u001B[49m\u001B[43m,\u001B[49m\u001B[43m \u001B[49m\u001B[38;5;124;43m'\u001B[39;49m\u001B[38;5;124;43mmax\u001B[39;49m\u001B[38;5;124;43m'\u001B[39;49m\u001B[43m,\u001B[49m\u001B[43m \u001B[49m\u001B[43maxis\u001B[49m\u001B[43m,\u001B[49m\u001B[43m \u001B[49m\u001B[38;5;28;43;01mNone\u001B[39;49;00m\u001B[43m,\u001B[49m\u001B[43m \u001B[49m\u001B[43mout\u001B[49m\u001B[43m,\u001B[49m\n\u001B[1;32m   2792\u001B[0m \u001B[43m                          \u001B[49m\u001B[43mkeepdims\u001B[49m\u001B[38;5;241;43m=\u001B[39;49m\u001B[43mkeepdims\u001B[49m\u001B[43m,\u001B[49m\u001B[43m \u001B[49m\u001B[43minitial\u001B[49m\u001B[38;5;241;43m=\u001B[39;49m\u001B[43minitial\u001B[49m\u001B[43m,\u001B[49m\u001B[43m \u001B[49m\u001B[43mwhere\u001B[49m\u001B[38;5;241;43m=\u001B[39;49m\u001B[43mwhere\u001B[49m\u001B[43m)\u001B[49m\n",
      "File \u001B[0;32m~/.local/lib/python3.8/site-packages/numpy/core/fromnumeric.py:86\u001B[0m, in \u001B[0;36m_wrapreduction\u001B[0;34m(obj, ufunc, method, axis, dtype, out, **kwargs)\u001B[0m\n\u001B[1;32m     83\u001B[0m         \u001B[38;5;28;01melse\u001B[39;00m:\n\u001B[1;32m     84\u001B[0m             \u001B[38;5;28;01mreturn\u001B[39;00m reduction(axis\u001B[38;5;241m=\u001B[39maxis, out\u001B[38;5;241m=\u001B[39mout, \u001B[38;5;241m*\u001B[39m\u001B[38;5;241m*\u001B[39mpasskwargs)\n\u001B[0;32m---> 86\u001B[0m \u001B[38;5;28;01mreturn\u001B[39;00m \u001B[43mufunc\u001B[49m\u001B[38;5;241;43m.\u001B[39;49m\u001B[43mreduce\u001B[49m\u001B[43m(\u001B[49m\u001B[43mobj\u001B[49m\u001B[43m,\u001B[49m\u001B[43m \u001B[49m\u001B[43maxis\u001B[49m\u001B[43m,\u001B[49m\u001B[43m \u001B[49m\u001B[43mdtype\u001B[49m\u001B[43m,\u001B[49m\u001B[43m \u001B[49m\u001B[43mout\u001B[49m\u001B[43m,\u001B[49m\u001B[43m \u001B[49m\u001B[38;5;241;43m*\u001B[39;49m\u001B[38;5;241;43m*\u001B[39;49m\u001B[43mpasskwargs\u001B[49m\u001B[43m)\u001B[49m\n",
      "\u001B[0;31mValueError\u001B[0m: zero-size array to reduction operation maximum which has no identity"
     ]
    }
   ],
   "source": [
    "import time\n",
    "import matplotlib.pyplot as plt\n",
    "start = time.time()\n",
    "num_rounds_to_stop = []\n",
    "for n in range(10, 500, 5):\n",
    "    avg_consensus_instance = DistributedAverageConsensusInstance(\n",
    "        n, InitialValueSetup.GROUPED, TopologyLayout.LATTICE_RING, EdgeWeightType.MAX_DEGREE)\n",
    "    avg_consensus_instance.execute_instance()\n",
    "    num_rounds_to_stop.append(avg_consensus_instance.rounds_to_convergence)\n",
    "\n",
    "\n",
    "end = time.time()\n",
    "print(end - start)\n",
    "print(num_rounds_to_stop)\n",
    "plt.plot(range(10, 500, 5), num_rounds_to_stop)\n",
    "plt.show()\n"
   ],
   "metadata": {
    "collapsed": false,
    "pycharm": {
     "name": "#%%\n"
    }
   }
  },
  {
   "cell_type": "code",
   "execution_count": null,
   "outputs": [],
   "source": [
    "import matplotlib.pyplot as plt\n",
    "import time\n",
    "\n",
    "num_rounds_to_stop = []\n",
    "num_nodes = []\n",
    "\n",
    "start = time.time()\n",
    "for num_nodes in range(10, 200, 5):\n",
    "    laplacian = graph_creator.get_lattice_ring(num_nodes, 4)\n",
    "    # values = init_starting_values.grouped(num_nodes, 0, 1)\n",
    "    values = init_starting_values.random_ints(num_nodes, 10)\n",
    "    edge_weights = init_edge_weights.max_degree(laplacian, num_nodes)\n",
    "    values_by_round = simulation.run_avg_consensus(values, edge_weights)\n",
    "    num_rounds_to_stop.append(len(values_by_round))\n",
    "\n",
    "end = time.time()\n",
    "print(end - start)\n",
    "plt.plot(range(10, 200, 5), num_rounds_to_stop)\n",
    "plt.show()"
   ],
   "metadata": {
    "collapsed": false,
    "pycharm": {
     "name": "#%%\n"
    }
   }
  },
  {
   "cell_type": "code",
   "execution_count": null,
   "outputs": [],
   "source": [
    "num_nodes = 10\n",
    "num_neighbors = 4\n",
    "laplacian = graph_creator.get_lattice_ring(num_nodes, num_neighbors)\n",
    "values = init_starting_values.grouped(num_nodes, 0, 10)\n",
    "edge_weights = init_edge_weights.optimal_constant(laplacian, num_nodes)\n",
    "values_by_round = simulation.run_avg_consensus(values, edge_weights)\n",
    "\n",
    "plotter.plot_values_by_round(values_by_round)"
   ],
   "metadata": {
    "collapsed": false,
    "pycharm": {
     "name": "#%%\n"
    }
   }
  },
  {
   "cell_type": "code",
   "execution_count": null,
   "outputs": [],
   "source": [
    "num_nodes = 10\n",
    "num_neighbors = 4\n",
    "laplacian = graph_creator.get_lattice_ring(num_nodes, num_neighbors)\n",
    "values = init_starting_values.random_ints(num_nodes, 10)\n",
    "edge_weights = init_edge_weights.local_degree(laplacian, num_nodes)\n",
    "values_by_round = simulation.run_avg_consensus(values, edge_weights)\n",
    "\n",
    "plotter.plot_values_by_round(values_by_round)"
   ],
   "metadata": {
    "collapsed": false,
    "pycharm": {
     "name": "#%%\n"
    }
   }
  },
  {
   "cell_type": "code",
   "execution_count": null,
   "outputs": [],
   "source": [],
   "metadata": {
    "collapsed": false,
    "pycharm": {
     "name": "#%%\n"
    }
   }
  }
 ],
 "metadata": {
  "kernelspec": {
   "display_name": "Python 3",
   "language": "python",
   "name": "python3"
  },
  "language_info": {
   "codemirror_mode": {
    "name": "ipython",
    "version": 2
   },
   "file_extension": ".py",
   "mimetype": "text/x-python",
   "name": "python",
   "nbconvert_exporter": "python",
   "pygments_lexer": "ipython2",
   "version": "2.7.6"
  }
 },
 "nbformat": 4,
 "nbformat_minor": 0
}